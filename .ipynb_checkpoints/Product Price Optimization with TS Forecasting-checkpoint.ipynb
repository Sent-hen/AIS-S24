{
 "cells": [
  {
   "cell_type": "markdown",
   "id": "d060b105",
   "metadata": {},
   "source": [
    "# Product Price Optimization with TS Forecasting"
   ]
  },
  {
   "cell_type": "code",
   "execution_count": null,
   "id": "bb56dcbb",
   "metadata": {},
   "outputs": [],
   "source": []
  }
 ],
 "metadata": {
  "kernelspec": {
   "display_name": "Python 3 (ipykernel)",
   "language": "python",
   "name": "python3"
  },
  "language_info": {
   "codemirror_mode": {
    "name": "ipython",
    "version": 3
   },
   "file_extension": ".py",
   "mimetype": "text/x-python",
   "name": "python",
   "nbconvert_exporter": "python",
   "pygments_lexer": "ipython3",
   "version": "3.10.12"
  }
 },
 "nbformat": 4,
 "nbformat_minor": 5
}
